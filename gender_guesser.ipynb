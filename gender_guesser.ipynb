{
 "cells": [
  {
   "cell_type": "code",
   "execution_count": 1,
   "id": "b803c172",
   "metadata": {},
   "outputs": [],
   "source": [
    "#!pip install gender_guesser"
   ]
  },
  {
   "cell_type": "code",
   "execution_count": 2,
   "id": "ea8a8373",
   "metadata": {},
   "outputs": [],
   "source": [
    "import gender_guesser.detector as gender\n",
    "import csv\n",
    "import pandas as pd"
   ]
  },
  {
   "cell_type": "code",
   "execution_count": 3,
   "id": "8bdeadd4",
   "metadata": {},
   "outputs": [],
   "source": [
    "def get_gender (firstname):\n",
    "    d = gender.Detector()\n",
    "    geschlecht = d.get_gender(firstname)\n",
    "    return geschlecht"
   ]
  },
  {
   "cell_type": "code",
   "execution_count": 15,
   "id": "cde00b78",
   "metadata": {},
   "outputs": [],
   "source": [
    "# Function to determine gender based on the first name from a list of names. \n",
    "# Data can have different formats:\n",
    "# 1. surname, first name (and possibly other names)\n",
    "# 2. first name only\n",
    "# 3. several first names\n",
    "# Function iterates through the list entries and extracts the (1st) first name to determine the gender based on it\n",
    "def get_gender_fromcsv(names):\n",
    "    splitted_names = ((names.split(',')))\n",
    "    if len(splitted_names)>1:\n",
    "        #print(splitted_names[1])\n",
    "        if ' ' in splitted_names[1]:\n",
    "            firstname_splitted = (splitted_names[1].split( ))[0]\n",
    "            #print (firstname_splitted)\n",
    "            gender_firstname_splitted = get_gender(firstname_splitted)\n",
    "            #print(gender_firstname_splitted)\n",
    "            #print(\"Last name and two first names\")\n",
    "            return gender_firstname_splitted\n",
    "            \n",
    "        else:\n",
    "            firstname_unsplitted = splitted_names[0]\n",
    "            #print(\"Last name, but just one first name\", firstname_unsplitted)\n",
    "            gender_firstname_unsplitted = get_gender(firstname_unsplitted)\n",
    "            #print(gender_firstname_unsplitted)\n",
    "            return gender_firstname_unsplitted\n",
    "    else: \n",
    "        only_firstname = splitted_names[0]\n",
    "        if ' ' in only_firstname:\n",
    "            only_firstname_splitted = (splitted_names[0].split( ))[0]\n",
    "            #print(only_firstname_splitted)\n",
    "            gender_only_firstname_splitted = get_gender(only_firstname_splitted)\n",
    "            #print(gender_only_firstname_splitted)\n",
    "            return gender_only_firstname_splitted\n",
    "        else:\n",
    "            only_firstname = (splitted_names[0])\n",
    "            #print (only_firstname)\n",
    "            gender_only_firstname = get_gender(only_firstname)\n",
    "            #print(gender_only_firstname)\n",
    "            return(gender_only_firstname)"
   ]
  },
  {
   "cell_type": "code",
   "execution_count": 16,
   "id": "ff5253e5",
   "metadata": {},
   "outputs": [
    {
     "name": "stdout",
     "output_type": "stream",
     "text": [
      "       id                                               name gender\n",
      "0    6259                                             Lorenz       \n",
      "1    3091  Hülsen, Leopoldine Christiane Dorothea (geb. P...       \n",
      "2    1839            Schelling, Gottliebin Marie (geb. Cleß)       \n",
      "3   11701                        Schindler, Adolph Ferdinand       \n",
      "4     558       Schierstedt-Reichenwalde, August Wilhelm von       \n",
      "5    2714                                      Smith, George       \n",
      "6    6347  Briest, Friederike Marie Helene von (geb. von ...       \n",
      "7    4144                         Wiedemann, Konrad Eberhard       \n",
      "8    4844                                           (Sophie)       \n",
      "9    4856                        Schweinitz, Hans Julius von       \n",
      "10   4861                                  Eisenstück, Julie       \n",
      "11   4896                        Mynheer Van Papst (Familie)       \n",
      "12   4891                                      Wenner, Franz       \n",
      "13  11560                           Bethmann-Metzler, Eduard       \n",
      "14  14735                             Louis, Georg Friedrich       \n",
      "15  14734                      Stromeyer, Louise, geb. Louis       \n",
      "16   3240  Hunter, Wilhelmine (Minna) Sophie (geb. Spall,...       \n",
      "17  12757        Kestner, Louise Amalie Henriette Antoinette       \n",
      "18   5362   Stieglitz, Sophie Jeanette (Jente, geb. Ephraim)       \n",
      "19  12784                         Jacobi, Christian Leonhard       \n",
      "20  12775                              Pauly, Michael Rudolf       \n",
      "21  12134        Pfirt, Maria Franziska (geb. von Venningen)       \n",
      "22   8349          Manteuffel, Johanne von (geb. von Wagner)       \n",
      "23   5544                         Fiedler, Friedrich Wilhelm       \n",
      "24   4346                                Zapf, Johann Justin       \n",
      "25   8945                                    Herrmann, M. G.       \n",
      "26   8709                                Schelling, Gottlieb       \n"
     ]
    }
   ],
   "source": [
    "df = pd.read_csv('persons_without_gender.csv')\n",
    "df['gender']=''\n",
    "print(df)"
   ]
  },
  {
   "cell_type": "code",
   "execution_count": 18,
   "id": "654d440d",
   "metadata": {},
   "outputs": [
    {
     "name": "stdout",
     "output_type": "stream",
     "text": [
      "       id                                               name gender  \\\n",
      "0    6259                                             Lorenz          \n",
      "1    3091  Hülsen, Leopoldine Christiane Dorothea (geb. P...          \n",
      "2    1839            Schelling, Gottliebin Marie (geb. Cleß)          \n",
      "3   11701                        Schindler, Adolph Ferdinand          \n",
      "4     558       Schierstedt-Reichenwalde, August Wilhelm von          \n",
      "5    2714                                      Smith, George          \n",
      "6    6347  Briest, Friederike Marie Helene von (geb. von ...          \n",
      "7    4144                         Wiedemann, Konrad Eberhard          \n",
      "8    4844                                           (Sophie)          \n",
      "9    4856                        Schweinitz, Hans Julius von          \n",
      "10   4861                                  Eisenstück, Julie          \n",
      "11   4896                        Mynheer Van Papst (Familie)          \n",
      "12   4891                                      Wenner, Franz          \n",
      "13  11560                           Bethmann-Metzler, Eduard          \n",
      "14  14735                             Louis, Georg Friedrich          \n",
      "15  14734                      Stromeyer, Louise, geb. Louis          \n",
      "16   3240  Hunter, Wilhelmine (Minna) Sophie (geb. Spall,...          \n",
      "17  12757        Kestner, Louise Amalie Henriette Antoinette          \n",
      "18   5362   Stieglitz, Sophie Jeanette (Jente, geb. Ephraim)          \n",
      "19  12784                         Jacobi, Christian Leonhard          \n",
      "20  12775                              Pauly, Michael Rudolf          \n",
      "21  12134        Pfirt, Maria Franziska (geb. von Venningen)          \n",
      "22   8349          Manteuffel, Johanne von (geb. von Wagner)          \n",
      "23   5544                         Fiedler, Friedrich Wilhelm          \n",
      "24   4346                                Zapf, Johann Justin          \n",
      "25   8945                                    Herrmann, M. G.          \n",
      "26   8709                                Schelling, Gottlieb          \n",
      "\n",
      "   assigend gender          source  \n",
      "0             male  gender_guesser  \n",
      "1           female  gender_guesser  \n",
      "2          unknown  gender_guesser  \n",
      "3             male  gender_guesser  \n",
      "4             male  gender_guesser  \n",
      "5             male  gender_guesser  \n",
      "6           female  gender_guesser  \n",
      "7             male  gender_guesser  \n",
      "8          unknown  gender_guesser  \n",
      "9             male  gender_guesser  \n",
      "10          female  gender_guesser  \n",
      "11         unknown  gender_guesser  \n",
      "12            male  gender_guesser  \n",
      "13            male  gender_guesser  \n",
      "14            male  gender_guesser  \n",
      "15          female  gender_guesser  \n",
      "16          female  gender_guesser  \n",
      "17          female  gender_guesser  \n",
      "18          female  gender_guesser  \n",
      "19            male  gender_guesser  \n",
      "20            male  gender_guesser  \n",
      "21          female  gender_guesser  \n",
      "22          female  gender_guesser  \n",
      "23            male  gender_guesser  \n",
      "24            male  gender_guesser  \n",
      "25         unknown  gender_guesser  \n",
      "26            male  gender_guesser  \n"
     ]
    }
   ],
   "source": [
    "df['assigend gender'] = df['name'].apply(get_gender_fromcsv)\n",
    "df['source'] = 'gender_guesser'\n",
    "print(df)\n",
    "df.to_csv('persons_with_gender.csv')"
   ]
  }
 ],
 "metadata": {
  "kernelspec": {
   "display_name": "Python 3 (ipykernel)",
   "language": "python",
   "name": "python3"
  },
  "language_info": {
   "codemirror_mode": {
    "name": "ipython",
    "version": 3
   },
   "file_extension": ".py",
   "mimetype": "text/x-python",
   "name": "python",
   "nbconvert_exporter": "python",
   "pygments_lexer": "ipython3",
   "version": "3.10.9"
  }
 },
 "nbformat": 4,
 "nbformat_minor": 5
}
